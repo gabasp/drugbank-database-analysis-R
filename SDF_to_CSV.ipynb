{
  "nbformat": 4,
  "nbformat_minor": 0,
  "metadata": {
    "colab": {
      "provenance": []
    },
    "kernelspec": {
      "name": "python3",
      "display_name": "Python 3"
    },
    "language_info": {
      "name": "python"
    }
  },
  "cells": [
    {
      "cell_type": "code",
      "execution_count": null,
      "metadata": {
        "id": "romQKZ-dEdZB"
      },
      "outputs": [],
      "source": [
        "import pandas as pd \n",
        "import csv"
      ]
    },
    {
      "cell_type": "code",
      "source": [
        "pip install rdkit"
      ],
      "metadata": {
        "colab": {
          "base_uri": "https://localhost:8080/"
        },
        "id": "HhG6Vip-FNo4",
        "outputId": "099cfbaa-0430-4d3b-ec19-dbe976ab2225"
      },
      "execution_count": null,
      "outputs": [
        {
          "output_type": "stream",
          "name": "stdout",
          "text": [
            "Looking in indexes: https://pypi.org/simple, https://us-python.pkg.dev/colab-wheels/public/simple/\n",
            "Collecting rdkit\n",
            "  Downloading rdkit-2022.9.1-cp37-cp37m-manylinux_2_17_x86_64.manylinux2014_x86_64.whl (29.5 MB)\n",
            "\u001b[K     |████████████████████████████████| 29.5 MB 1.6 MB/s \n",
            "\u001b[?25hRequirement already satisfied: Pillow in /usr/local/lib/python3.7/dist-packages (from rdkit) (7.1.2)\n",
            "Requirement already satisfied: numpy in /usr/local/lib/python3.7/dist-packages (from rdkit) (1.21.6)\n",
            "Installing collected packages: rdkit\n",
            "Successfully installed rdkit-2022.9.1\n"
          ]
        }
      ]
    },
    {
      "cell_type": "code",
      "source": [
        "import rdkit\n",
        "from rdkit import Chem\n",
        "from rdkit.Chem import Descriptors, PandasTools, Lipinski, Crippen\n",
        "from rdkit import DataStructs\n"
      ],
      "metadata": {
        "id": "Tfyby8E2FOwn"
      },
      "execution_count": null,
      "outputs": []
    },
    {
      "cell_type": "code",
      "source": [
        "mols = Chem.SDMolSupplier(\"/content/structures.sdf\")\n",
        "nmols = len(mols)\n",
        "i = mols[0]\n",
        "\n",
        "teste = i.GetPropNames()\n",
        "\n",
        "for j in teste:\n",
        "  print(j)\n",
        "print(mols[0])\n",
        "print(teste)\n",
        "\n",
        "print(i.GetRingInfo().NumRings()) #Ringcount\n",
        "print(Descriptors.ExactMolWt(i)) #ExactMolWt\n",
        "print(rdkit.Chem.Lipinski.NumRotatableBonds(i)) #NumRotatableBonds\n",
        "print(i.GetProp(\"SMILES\")) #Smiles\n",
        "print(Descriptors.rdMolDescriptors.CalcTPSA(i)) #TPSA\n",
        "print(rdkit.Chem.Crippen.MolLogP(i)) #MolLogP\n",
        "print(rdkit.Chem.Lipinski.NumHAcceptors(i)) #NumHAcceptors\n",
        "print(rdkit.Chem.Lipinski.NumHDonors(i)) #NumHDonors\n",
        "#print(i.GetProp(\"NMREDATA_VERSION\")) #Version"
      ],
      "metadata": {
        "colab": {
          "base_uri": "https://localhost:8080/"
        },
        "id": "a0e5AWGBFQQf",
        "outputId": "06467b99-eb71-4930-b840-3374d5ec420e"
      },
      "execution_count": null,
      "outputs": [
        {
          "output_type": "stream",
          "name": "stdout",
          "text": [
            "DATABASE_ID\n",
            "DATABASE_NAME\n",
            "SMILES\n",
            "INCHI_IDENTIFIER\n",
            "INCHI_KEY\n",
            "FORMULA\n",
            "MOLECULAR_WEIGHT\n",
            "EXACT_MASS\n",
            "JCHEM_ACCEPTOR_COUNT\n",
            "JCHEM_ATOM_COUNT\n",
            "JCHEM_AVERAGE_NEUTRAL_MICROSPECIES_CHARGE\n",
            "JCHEM_AVERAGE_POLARIZABILITY\n",
            "JCHEM_BIOAVAILABILITY\n",
            "JCHEM_DONOR_COUNT\n",
            "JCHEM_FORMAL_CHARGE\n",
            "JCHEM_GHOSE_FILTER\n",
            "JCHEM_IUPAC\n",
            "ALOGPS_LOGP\n",
            "JCHEM_LOGP\n",
            "ALOGPS_LOGS\n",
            "JCHEM_MDDR_LIKE_RULE\n",
            "JCHEM_NEUTRAL_CHARGE\n",
            "JCHEM_NUMBER_OF_RINGS\n",
            "JCHEM_PHYSIOLOGICAL_CHARGE\n",
            "JCHEM_PKA\n",
            "JCHEM_PKA_STRONGEST_ACIDIC\n",
            "JCHEM_PKA_STRONGEST_BASIC\n",
            "JCHEM_POLAR_SURFACE_AREA\n",
            "JCHEM_REFRACTIVITY\n",
            "JCHEM_ROTATABLE_BOND_COUNT\n",
            "JCHEM_RULE_OF_FIVE\n",
            "ALOGPS_SOLUBILITY\n",
            "JCHEM_TRADITIONAL_IUPAC\n",
            "JCHEM_VEBER_RULE\n",
            "DRUGBANK_ID\n",
            "SECONDARY_ACCESSION_NUMBERS\n",
            "DRUG_GROUPS\n",
            "GENERIC_NAME\n",
            "SYNONYMS\n",
            "PRODUCTS\n",
            "INTERNATIONAL_BRANDS\n",
            "<rdkit.Chem.rdchem.Mol object at 0x7f2846254e40>\n",
            "<rdkit.rdBase._vectSs object at 0x7f2846257390>\n",
            "6\n",
            "2178.9858128759984\n",
            "66\n",
            "CC[C@H](C)[C@H](NC(=O)[C@H](CCC(O)=O)NC(=O)[C@H](CCC(O)=O)NC(=O)[C@H](CC1=CC=CC=C1)NC(=O)[C@H](CC(O)=O)NC(=O)CNC(=O)[C@H](CC(N)=O)NC(=O)CNC(=O)CNC(=O)CNC(=O)CNC(=O)[C@@H]1CCCN1C(=O)[C@H](CCCNC(N)=N)NC(=O)[C@@H]1CCCN1C(=O)[C@H](N)CC1=CC=CC=C1)C(=O)N1CCC[C@H]1C(=O)N[C@@H](CCC(O)=O)C(=O)N[C@@H](CCC(O)=O)C(=O)N[C@@H](CC1=CC=C(O)C=C1)C(=O)N[C@@H](CC(C)C)C(O)=O\n",
            "901.5700000000002\n",
            "-8.11642999999994\n",
            "29\n",
            "28\n"
          ]
        }
      ]
    },
    {
      "cell_type": "code",
      "source": [
        "\n",
        "\n",
        "\n",
        "mol_data = ['SMILES', 'ExactMolWt', 'MolLogP', 'NumHAcceptors', 'NumHDonors', 'NumRotatableBonds', 'RingCount', 'TPSA']\n",
        "\n",
        "mol_info = []\n",
        "contador_de_erro = 0\n",
        "count = 1\n",
        "for i in mols:\n",
        "  try:\n",
        "    mol_info.append([i.GetProp(\"SMILES\"), Descriptors.ExactMolWt(i), rdkit.Chem.Crippen.MolLogP(i), rdkit.Chem.Lipinski.NumHAcceptors(i), rdkit.Chem.Lipinski.NumHDonors(i), rdkit.Chem.Lipinski.NumRotatableBonds(i), i.GetRingInfo().NumRings(), Descriptors.rdMolDescriptors.CalcTPSA(i)])\n",
        "  except:\n",
        "    contador_de_erro = contador_de_erro +1\n",
        "  \n",
        "print(mol_info[:100])\n",
        "\n",
        "\n",
        "\n",
        "\n",
        "\n",
        "\n",
        "\n",
        "\n",
        "\n",
        "\n",
        "\n",
        "\n"
      ],
      "metadata": {
        "colab": {
          "base_uri": "https://localhost:8080/"
        },
        "id": "mHIvzpKCU8a1",
        "outputId": "1ecc6096-d6fa-469a-9241-f4d1a54936e9"
      },
      "execution_count": null,
      "outputs": [
        {
          "output_type": "stream",
          "name": "stdout",
          "text": [
            "[['CC[C@H](C)[C@H](NC(=O)[C@H](CCC(O)=O)NC(=O)[C@H](CCC(O)=O)NC(=O)[C@H](CC1=CC=CC=C1)NC(=O)[C@H](CC(O)=O)NC(=O)CNC(=O)[C@H](CC(N)=O)NC(=O)CNC(=O)CNC(=O)CNC(=O)CNC(=O)[C@@H]1CCCN1C(=O)[C@H](CCCNC(N)=N)NC(=O)[C@@H]1CCCN1C(=O)[C@H](N)CC1=CC=CC=C1)C(=O)N1CCC[C@H]1C(=O)N[C@@H](CCC(O)=O)C(=O)N[C@@H](CCC(O)=O)C(=O)N[C@@H](CC1=CC=C(O)C=C1)C(=O)N[C@@H](CC(C)C)C(O)=O', 2178.9858128759984, -8.11642999999994, 29, 28, 66, 6, 901.5700000000002], ['CCNC(=O)[C@@H]1CCCN1C(=O)[C@H](CCCNC(N)=N)NC(=O)[C@H](CC(C)C)NC(=O)[C@@H](CC(C)C)NC(=O)[C@H](CC1=CC=C(O)C=C1)NC(=O)[C@H](CO)NC(=O)[C@H](CC1=CNC2=C1C=CC=C2)NC(=O)[C@H](CC1=CNC=N1)NC(=O)[C@@H]1CCC(=O)N1', 1208.6454621280002, -1.228430000000014, 14, 16, 32, 6, 429.04], ['CC(C)C[C@H](NC(=O)[C@@H](COC(C)(C)C)NC(=O)[C@H](CC1=CC=C(O)C=C1)NC(=O)[C@H](CO)NC(=O)[C@H](CC1=CNC2=CC=CC=C12)NC(=O)[C@H](CC1=CN=CN1)NC(=O)[C@@H]1CCC(=O)N1)C(=O)N[C@@H](CCCN=C(N)N)C(=O)N1CCC[C@H]1C(=O)NNC(N)=O', 1268.6414393680004, -3.105700000000015, 16, 17, 31, 6, 495.8899999999997], ['CC(C)C[C@@H](NC(=O)CNC(=O)[C@@H](NC=O)C(C)C)C(=O)N[C@@H](C)C(=O)N[C@H](C(C)C)C(=O)N[C@@H](C(C)C)C(=O)N[C@H](C(C)C)C(=O)N[C@@H](CC1=CNC2=C1C=CC=C2)C(=O)N[C@H](CC(C)C)C(=O)N[C@@H](CC1=CNC2=C1C=CC=C2)C(=O)N[C@H](CC(C)C)C(=O)N[C@@H](CC1=CNC2=C1C=CC=C2)C(=O)N[C@H](CC(C)C)C(=O)N[C@@H](CC1=CNC2=C1C=CC=C2)C(=O)NCCO', 1810.033419239999, 4.86759999999998, 16, 20, 51, 8, 519.8899999999996], ['NC(=O)CC[C@@H]1NC(=O)[C@H](CC2=CC=CC=C2)NC(=O)[C@H](CC2=CC=C(O)C=C2)NC(=O)CCSSC[C@H](NC(=O)[C@H](CC(N)=O)NC1=O)C(=O)N1CCC[C@H]1C(=O)N[C@H](CCCNC(N)=N)C(=O)NCC(N)=O', 1068.426955488, -4.132030000000018, 15, 14, 19, 4, 435.40999999999985], ['CC(C)C[C@H](NC(=O)[C@@H](CCCNC(N)=O)NC(=O)[C@H](CC1=CC=C(O)C=C1)NC(=O)[C@H](CO)NC(=O)[C@@H](CC1=CN=CC=C1)NC(=O)[C@@H](CC1=CC=C(Cl)C=C1)NC(=O)[C@@H](CC1=CC2=CC=CC=C2C=C1)NC(C)=O)C(=O)N[C@@H](CCCNC(N)=N)C(=O)N1CCC[C@H]1C(=O)N[C@H](C)C(N)=O', 1429.6698183039998, -0.5061300000000097, 16, 17, 38, 6, 495.66999999999985], ['NCCCCC(NC(=O)C1CCCN1C(=O)C1CSSCC(N)C(=O)NC(CC2=CC=C(O)C=C2)C(=O)NC(CC2=CC=CC=C2)C(=O)NC(CCC(N)=O)C(=O)NC(CC(N)=O)C(=O)N1)C(=O)NCC(N)=O.NC1CSSCC(NC(=O)C(CC(N)=O)NC(=O)C(CCC(N)=O)NC(=O)C(CC2=CC=CC=C2)NC(=O)C(CC2=CC=C(O)C=C2)NC1=O)C(=O)N1CCCC1C(=O)NC(CCCN=C(N)N)C(=O)NCC(N)=O', 2138.8695610399973, -9.733599999999912, 32, 27, 38, 8, 889.4799999999994], ['CCCCCCCCCC(=O)N[C@@H](CC1=CNC2=C1C=CC=C2)C(=O)N[C@H](CC(N)=O)C(=O)N[C@@H](CC(O)=O)C(=O)N[C@H]1[C@@H](C)OC(=O)[C@H](CC(=O)C2=CC=CC=C2N)NC(=O)[C@@H](NC(=O)[C@@H](CO)NC(=O)CNC(=O)[C@H](CC(O)=O)NC(=O)[C@@H](C)NC(=O)[C@H](CC(O)=O)NC(=O)[C@H](CCCN)NC(=O)CNC1=O)[C@H](C)CC(O)=O', 1619.7103663520002, -5.621799999999954, 24, 22, 35, 4, 702.0200000000002], ['CC[C@@H]1NC(=O)[C@H]([C@H](O)[C@H](C)C\\\\C=C\\\\C)N(C)C(=O)[C@H](C(C)C)N(C)C(=O)[C@H](CC(C)C)N(C)C(=O)[C@H](CC(C)C)N(C)C(=O)[C@@H](C)NC(=O)[C@H](C)NC(=O)[C@H](CC(C)C)N(C)C(=O)[C@@H](NC(=O)[C@H](CC(C)C)N(C)C(=O)CN(C)C1=O)C(C)C', 1201.841367992, 3.2690000000000046, 12, 5, 15, 1, 278.79999999999995], ['NCCCC[C@H](NC(=O)[C@@H]1CCCN1C(=O)[C@@H]1CSSC[C@H](N)C(=O)N[C@@H](CC2=CC=CC=C2)C(=O)N[C@@H](CC2=CC=CC=C2)C(=O)N[C@@H](CCC(N)=O)C(=O)N[C@@H](CC(N)=O)C(=O)N1)C(=O)NCC(N)=O', 1039.4367919000001, -4.0347000000000195, 15, 12, 19, 4, 405.3199999999998], ['[H][C@]1(NC(=O)[C@H](CCCCN)NC(=O)[C@@H](CC2=CNC3=C2C=CC=C3)NC(=O)[C@H](CC2=CC=CC=C2)NC(=O)[C@H](CSSC[C@H](NC1=O)C(=O)N[C@H](CO)[C@@H](C)O)NC(=O)[C@H](N)CC1=CC=CC=C1)[C@@H](C)O', 1018.440480312, -0.8054000000000054, 14, 13, 17, 5, 332.22], ['CC(C)C[C@H](NC(=O)[C@@H](CC(N)=O)NC(=O)[C@H](CC1=CC=C(O)C=C1)N(C)C(=O)[C@H](CO)NC(=O)[C@@H](CC1=CN=CC=C1)NC(=O)[C@@H](CC1=CC=C(Cl)C=C1)NC(=O)[C@@H](CC1=CC2=C(C=CC=C2)C=C1)NC(C)=O)C(=O)N[C@@H](CCCCNC(C)C)C(=O)N1CCC[C@H]1C(=O)N[C@H](C)C(N)=O', 1414.6840713999995, 1.167999999999988, 16, 13, 38, 6, 424.9799999999999], ['CC1=NC=C(COP(O)(O)=O)C(C=O)=C1O', 247.02457367000002, 0.51742, 5, 3, 4, 1, 116.95], ['C[C@H](CNC(=O)CC[C@]1(C)[C@@H](CC(N)=O)[C@H]2N=C1\\\\C(C)=C1/N=C(/C=C3\\\\N=C(\\\\C(\\\\C)=C4\\\\[C@@H](CCC(N)=O)[C@](C)(CC(N)=O)[C@@]2(C)N4[Co+]C#N)[C@@](C)(CC(N)=O)[C@@H]3CCC(N)=O)C(C)(C)[C@@H]1CCC(N)=O)OP([O-])(=O)O[C@@H]1[C@@H](CO)O[C@@H]([C@@H]1O)N1C=NC2=C1C=C(C)C(C)=C2', 1354.5674001259997, 2.722220000000001, 21, 9, 27, 8, 477.85], ['NC1=NC(=O)C2=C(NCC(CNC3=CC=C(C=C3)C(=O)N[C@@H](CCC(O)=O)C(O)=O)N2)N1', 445.170981456, -0.2819999999999996, 9, 8, 9, 3, 211.56], ['N[C@@H](CC1=CNC=N1)C(O)=O', 155.069476528, -0.6359000000000004, 3, 3, 3, 1, 92.0], ['C[S+](CC[C@H](N)C([O-])=O)C[C@H]1O[C@H]([C@H](O)[C@@H]1O)N1C=NC2=C1N=CN=C2N', 398.13723880399994, -3.2568999999999964, 11, 4, 7, 3, 185.46], ['CC(=O)C(O)=O', 88.01604398799999, -0.3400000000000001, 2, 1, 1, 0, 54.37], ['N[C@@H](CC1=CC=CC=C1)C(O)=O', 165.078978592, 0.641, 2, 2, 3, 1, 63.32], ['[H][C@]12CS[C@@H](CCCCC(O)=O)[C@@]1([H])NC(=O)N2', 244.088163372, 0.7967999999999997, 3, 3, 5, 2, 78.42999999999999], ['C[N+](C)(C)CCO', 104.10699048808999, -0.31510000000000016, 1, 1, 2, 0, 20.23], ['NCCCC[C@H](N)C(O)=O', 146.105527688, -0.4726999999999992, 3, 3, 5, 0, 89.34], ['N[C@@H](CCCNC(N)=N)C(O)=O', 174.111675688, -1.338429999999999, 3, 5, 5, 0, 125.21999999999998], ['[H][C@@]1(OC(=O)C(O)=C1O)[C@@H](O)CO', 176.03208797599999, -1.4074000000000002, 6, 4, 2, 1, 107.22], ['NCCCNCCCCNCCCN', 202.21574683199998, -0.3565999999999998, 4, 4, 11, 0, 76.1], ['N[C@@H](CC(O)=O)C(O)=O', 133.037507704, -1.1269999999999996, 3, 3, 3, 0, 100.61999999999999], ['NCCC[C@H](N)C(O)=O', 132.089877624, -0.8627999999999982, 3, 3, 4, 0, 89.34], ['N[C@@H](CCC(N)=O)C(O)=O', 146.06914218, -1.3362000000000003, 3, 3, 4, 0, 106.41], ['NC1=C2N=CN([C@@H]3O[C@H](COP(O)(O)=O)[C@@H](O)[C@H]3O)C2=NC=N1', 347.06308441799996, -1.8629999999999982, 10, 5, 4, 3, 186.07000000000002], ['CC\\\\C=C/C\\\\C=C/C\\\\C=C/CCCCCCCC(O)=O', 278.2245802, 5.660500000000006, 1, 1, 13, 0, 37.3], ['N[C@@H](CO)C(O)=O', 105.042593084, -1.6093999999999995, 3, 3, 2, 0, 83.55], ['CSCC[C@H](N)C(O)=O', 149.051049592, 0.1514000000000002, 3, 2, 4, 0, 63.31999999999999], ['[H][C@](N)(CC1=CC=C(O)C=C1)C(O)=O', 181.073893212, 0.3466, 3, 3, 3, 1, 83.55], ['C[C@H](CCCC(C)(C)O)[C@@]1([H])CC[C@@]2([H])\\\\C(CCC[C@]12C)=C\\\\C=C1\\\\C[C@@H](O)C[C@H](O)C1=C', 416.32904526799996, 5.704700000000008, 3, 3, 6, 3, 60.69], ['C\\\\C(\\\\C=C\\\\C=C(/C)\\\\C=C\\\\[C@H]1C(C)=C[C@H](O)CC1(C)C)=C/C=C/C=C(\\\\C)/C=C/C=C(\\\\C)/C=C/C1=C(C)C[C@@H](O)CC1(C)C', 568.4280310319999, 10.403299999999993, 2, 2, 10, 2, 40.46], ['N[C@@H](CSSC[C@H](N)C(O)=O)C(O)=O', 240.023848864, -0.8083999999999987, 6, 4, 7, 0, 126.64000000000001], ['OC(=O)CCC(O)=O', 118.026608672, -0.06420000000000003, 2, 2, 3, 0, 74.6], ['CC1=C(C)C=C2N(C[C@H](O)[C@H](O)[C@H](O)CO)C3=NC(=O)NC(=O)C3=NC2=C1', 376.1382843599999, -1.7235599999999989, 9, 5, 5, 3, 161.56], ['[H]C(=O)[C@H](NC(C)=O)[C@@H](O)[C@H](O)[C@H](O)CO', 221.0899372, -3.2349999999999994, 6, 5, 6, 0, 127.09], ['N[C@@H](CCC(O)=O)C(O)=O', 147.05315776799998, -0.7368999999999997, 3, 3, 4, 0, 100.61999999999999], ['N[C@@H](CCC(=O)N[C@@H](CS)C(=O)NCC(O)=O)C(O)=O', 307.08380626400003, -2.206099999999997, 6, 6, 9, 0, 158.82], ['CCCCCCCCCCCCCCCCCC(=O)OC[C@H](COP(O)(=O)OC[C@H](N)C(O)=O)OC(=O)CCCCCCCCCCCCCCCCC', 791.5676344540001, 11.50989999999999, 9, 3, 42, 0, 171.68], ['NCC(O)=O', 75.0320284, -0.9702999999999999, 2, 2, 1, 0, 63.31999999999999], ['C[C@H](CCCC(C)(C)O)[C@@]1([H])CC[C@@]2([H])\\\\C(CCC[C@]12C)=C\\\\C=C1\\\\C[C@@H](O)CCC1=C', 400.334130648, 6.733900000000009, 2, 2, 6, 3, 40.46], ['CC1=NC=C(CO)C(C=O)=C1O', 167.058243148, 0.4004199999999999, 4, 2, 2, 1, 70.42], ['CN(CC(O)=O)C(N)=N', 131.069476528, -1.1037299999999988, 2, 3, 2, 0, 90.41000000000001], ['CC(C)C[C@H](N)C(O)=O', 131.094628656, 0.4444, 2, 2, 3, 0, 63.31999999999999], ['N[C@@H](CC1=CNC2=C1C=CC=C2)C(O)=O', 204.089877624, 1.1222999999999999, 2, 3, 3, 2, 79.11], ['N[C@@H](CS)C(O)=O', 121.019749464, -0.6719, 3, 3, 2, 0, 63.31999999999999], ['CC1=C(CCO)SC=[N+]1CC1=CN=C(C)N=C1N', 265.11175858409, 0.6077399999999997, 5, 2, 4, 2, 75.91], ['CC(C)[C@@H](C)\\\\C=C\\\\[C@@H](C)[C@@]1([H])CC[C@@]2([H])\\\\C(CCC[C@]12C)=C\\\\C=C1\\\\C[C@@H](O)CCC1=C', 396.339216028, 7.641000000000009, 1, 1, 5, 3, 20.23], ['CCCCC\\\\C=C/C\\\\C=C/C\\\\C=C/CCCCCCC(O)=O', 306.255880328, 6.440700000000007, 1, 1, 15, 0, 37.3], ['N[C@@H](CCCNC(N)=O)C(O)=O', 175.095691276, -1.1531999999999996, 3, 4, 5, 0, 118.43999999999998], ['C[C@@H](O)[C@H](N)C(O)=O', 119.058243148, -1.2209, 3, 3, 2, 0, 83.55], ['NC(=O)C1=CN(C=CC1)[C@@H]1O[C@H](CO[P@](O)(=O)O[P@](O)(=O)OC[C@H]2O[C@H]([C@H](O)[C@@H]2O)N2C=NC3=C(N)N=CN=C23)[C@@H](O)[C@H]1O', 665.1247718680003, -2.686399999999993, 18, 8, 11, 5, 317.61999999999995], ['NC1=NC(=O)C2=NC(CNC3=CC=C(C=C3)C(=O)N[C@@H](CCC(O)=O)C(O)=O)=CN=C2N1', 441.139681328, -0.04479999999999862, 9, 6, 9, 3, 213.28], ['CC\\\\C=C/C\\\\C=C/C\\\\C=C/C\\\\C=C/C\\\\C=C/CCCC(O)=O', 302.2245802, 5.9927000000000055, 1, 1, 13, 0, 37.3], ['C[C@H](N)C(O)=O', 89.047678464, -0.5817999999999999, 2, 2, 1, 0, 63.31999999999999], ['CC(C)[C@H](N)C(O)=O', 117.078978592, 0.054300000000000015, 2, 2, 2, 0, 63.31999999999999], ['C\\\\C(=C/CO)\\\\C=C\\\\C=C(/C)\\\\C=C\\\\C1=C(C)CCCC1(C)C', 286.22966558, 5.510300000000006, 1, 1, 5, 1, 20.23], ['CC(C)CCC[C@@H](C)CCC[C@@H](C)CCC[C@]1(C)CCC2=C(O1)C(C)=C(C)C(O)=C2C', 430.38108084, 8.840260000000004, 2, 1, 12, 2, 29.46], ['CC1=C(O)C(CO)=C(CO)C=N1', 169.073893212, 0.08022000000000001, 4, 3, 2, 1, 73.58000000000001], ['OC(=O)CCCC[C@@H]1CCSS1', 206.043521688, 2.785100000000001, 3, 1, 5, 1, 37.3], ['CC[C@H](C)[C@H](N)C(O)=O', 131.094628656, 0.4443999999999997, 2, 2, 3, 0, 63.31999999999999], ['COC(=O)[C@H](CC1=CC=CC=C1)NC(=O)[C@@H](N)CC(O)=O', 294.121571676, -0.3110999999999997, 5, 3, 7, 1, 118.71999999999998], ['CC(C)CCC[C@@H](C)[C@@]1([H])CC[C@@]2([H])\\\\C(CCC[C@]12C)=C\\\\C=C1\\\\C[C@@H](O)CCC1=C', 384.339216028, 7.619000000000009, 1, 1, 6, 3, 20.23], ['CC1=CC(=O)C2=CC=CC=C2C1=O', 172.052429496, 2.0119, 2, 0, 0, 2, 34.14], ['[H][C@]1(COP(O)(=O)OP(O)(=O)OP(O)(O)=O)O[C@@]([H])(N2C=NC3=C(N)N=CN=C23)[C@]([H])(O)[C@]1([H])O', 506.99574546199983, -1.6289999999999987, 14, 7, 8, 3, 279.13], ['OC(=O)[C@@H]1CCCN1', 115.063328528, -0.1770000000000001, 2, 2, 1, 1, 49.33], ['NC1=C2NC=NC2=NC=N1', 135.05449516000002, -0.0648999999999999, 4, 2, 0, 2, 80.48], ['N[C@@H](CC(N)=O)C(O)=O', 132.053492116, -1.7263, 3, 3, 3, 0, 106.41], ['[H][C@]12[C@H](C[C@H](O)C=C1C=C[C@H](C)[C@@H]2CC[C@@H](O)C[C@@H](O)CC(O)=O)OC(=O)[C@@H](C)CC', 424.246103492, 2.4404000000000003, 6, 4, 10, 2, 124.28999999999999], ['COCCCC\\\\C(=N/OCCN)C1=CC=C(C=C1)C(F)(F)F', 318.155512572, 3.201500000000002, 4, 1, 9, 1, 56.84], ['CCCCC(=O)N(CC1=CC=C(C=C1)C1=CC=CC=C1C1=NNN=N1)[C@@H](C(C)C)C(O)=O', 435.227039788, 4.161700000000002, 5, 2, 10, 3, 112.07000000000001], ['[H][C@@]12CCC[C@]1([H])N([C@@H](C2)C(O)=O)C(=O)[C@H](C)N[C@@H](CCC1=CC=CC=C1)C(=O)OCC', 416.23112212399985, 2.3832000000000004, 5, 2, 9, 3, 95.94], ['C[C@@H](CC1=CC(O)=C(O)C=C1)[C@H](C)CC1=CC(O)=C(O)C=C1', 302.151809184, 3.5664000000000016, 4, 4, 5, 2, 80.92], ['[H][C@@]12C[C@@]3([H])[C@]4([H])C[C@H](F)C5=CC(=O)C=C[C@]5(C)[C@@]4([H])[C@@H](O)C[C@]3(C)[C@@]1(OC(C)(C)O2)C(=O)CO', 434.2104669319999, 2.2747, 6, 2, 2, 5, 93.06000000000002], ['NCC(CC(O)=O)C1=CC=C(Cl)C=C1', 213.055656304, 1.857, 2, 2, 4, 1, 63.31999999999999], ['CC(N)CC1=CC=CC=C1', 135.104799416, 1.5763, 1, 1, 2, 1, 26.02], ['CSCC[C@H](NC(=O)[C@H](CC1=CNC2=C1C=CC=C2)NC(=O)CCNC(=O)OC(C)(C)C)C(=O)N[C@@H](CC(O)=O)C(=O)N[C@@H](CC1=CC=CC=C1)C(N)=O', 767.3312471479998, 1.5202000000000073, 9, 8, 20, 3, 250.90999999999997], ['CN1CCC[C@H]1C1=CN=CC=C1', 162.115698448, 1.8483, 2, 0, 1, 2, 16.130000000000003], ['CC1O[C@@]2(CS1)CN1CCC2CC1', 199.103085164, 1.5601999999999998, 3, 0, 0, 4, 12.47], ['OC1N=C(C2=CC=CC=C2Cl)C2=C(NC1=O)C=CC(Cl)=C2', 320.01193292, 3.101300000000001, 3, 2, 1, 3, 61.69], ['COC(=O)CCC1=CC=C(OCC(O)CNC(C)C)C=C1', 295.17835828, 1.5298999999999994, 5, 2, 9, 1, 67.78999999999999], ['CC(C)C[C@H](NC(=O)[C@H](CC1=CC=CC=C1)NC(=O)C1=CN=CC=N1)B(O)O', 384.19688568, 0.3605999999999992, 6, 4, 9, 2, 124.44000000000001], ['CCC(O)(\\\\C=C\\\\Cl)C#C', 144.034192588, 1.5131999999999999, 1, 1, 2, 0, 20.23], ['C[C@@](CC1=CC(O)=C(O)C=C1)(NN)C(O)=O', 226.095356928, -0.0531000000000002, 5, 5, 4, 1, 115.80999999999999], ['CC(C)(N)CC1=CC=CC=C1', 149.12044948, 1.9664, 1, 1, 2, 1, 26.02], ['CC(C)NCCCC1(C(N)=O)C2=CC=CC=C2C2=CC=CC=C12', 308.18886338799996, 3.2166000000000023, 2, 2, 6, 3, 55.120000000000005], ['COC1=CC=CC(=C1)C1(O)CCCCC1CN(C)C', 263.18852904, 2.6346000000000007, 3, 1, 4, 2, 32.7], ['NC1=NC=NC2=C1N=CN2[C@@H]1O[C@H](CO)[C@@H](O)[C@@H]1O', 267.096753896, -1.979999999999998, 9, 4, 2, 3, 139.54], ['CC(C)NCC(O)COC1=CC=C(CCOCC2CC2)C=C1', 307.214743788, 2.3934000000000006, 4, 2, 11, 2, 50.72], ['OC(CN1C=NC=N1)(CN1C=NC=N1)C1=C(F)C=C(F)C=C1', 306.10406544399996, 0.7357999999999996, 7, 1, 5, 3, 81.65], ['CC1=C(C)C2=C(CCC(C)(COC3=CC=C(CC4SC(=O)NC4=O)C=C3)O2)C(C)=C1O', 441.16099396400006, 4.374260000000004, 6, 2, 5, 4, 84.86], ['CCOC(=O)C1=C[C@@H](OC(CC)CC)[C@H](NC(C)=O)[C@@H](N)C1', 312.204907376, 1.2853999999999999, 5, 2, 7, 1, 90.64999999999999], ['CC[C@H]1OC(=O)[C@H](C)[C@@H](O[C@H]2C[C@@](C)(OC)[C@@H](O)[C@H](C)O2)[C@H](C)[C@@H](O[C@@H]2O[C@H](C)C[C@@H]([C@H]2O)N(C)C)[C@](C)(O)C[C@@H](C)C(=O)[C@H](C)[C@@H](O)[C@]1(C)O', 733.4612412040001, 1.7856000000000096, 14, 5, 7, 3, 193.91], ['[N+]1=2[Co-3]345([N+]6=C7[C@H]([C@@](CC(=O)N)(C)[C@@]6([C@@]6(N3C(=C(C)C3=[N+]4C(C(C)(C)[C@@H]3CCC(=O)N)=CC3=[N+]5C(=C7C)[C@@](CC(=O)N)([C@@H]3CCC(=O)N)C)[C@@](C)([C@H]6CC(=O)N)CCC(NC[C@@H](C)OP(=O)(O[C@@H]3[C@H](O[C@H](N(C4=CC(=C(C=C14)C)C)C=2)[C@@H]3O)CO)[O-])=O)[H])C)CCC(=O)N)O[H]', 1345.5670657779992, -0.21626000000000434, 17, 10, 16, 12, 437.22999999999985], ['CN1C=NC2=C1C(=O)N(C)C(=O)N2C', 194.08037556, -1.0293, 6, 0, 0, 2, 61.82], ['C[N+](C)(C)CCOC(=O)CCC(=O)OCC[N+](C)(C)C', 290.21946028018, 0.2654000000000025, 4, 0, 9, 0, 52.6], ['CCCC1=NN(C)C2=C1N=C(NC2=O)C1=CC(=CC=C1OCC)S(=O)(=O)N1CCN(C)CC1', 474.20492444, 1.610899999999999, 8, 1, 7, 4, 113.41999999999999]]\n"
          ]
        }
      ]
    },
    {
      "cell_type": "code",
      "source": [
        "with open(r'c:\\Users\\gabriel.assis\\Downloads\\TESTE.csv', 'w', encoding='UTF8', newline='') as f:\n",
        "    writer = csv.writer(f)\n",
        "    writer.writerow(mol_data)\n",
        "    writer.writerows(mol_info)"
      ],
      "metadata": {
        "id": "YynrMJ7Xf1Cn"
      },
      "execution_count": null,
      "outputs": []
    }
  ]
}